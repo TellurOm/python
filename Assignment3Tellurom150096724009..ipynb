{
 "cells": [
  {
   "cell_type": "code",
   "execution_count": 1,
   "metadata": {},
   "outputs": [
    {
     "name": "stdout",
     "output_type": "stream",
     "text": [
      "Name: John Doe, Age: 20, Roll No: S123, Stream: Computer Science\n"
     ]
    }
   ],
   "source": [
    "#1\n",
    "class Person:\n",
    "    def __init__(self, name, age):\n",
    "        self.name = name\n",
    "        self.age = age\n",
    "\n",
    "class Student(Person):\n",
    "    def __init__(self, name, age, rollno, stream):\n",
    "        super().__init__(name, age)\n",
    "        self.rollno = rollno\n",
    "        self.stream = stream\n",
    "\n",
    "    def display(self):\n",
    "        print(f\"Name: {self.name}, Age: {self.age}, Roll No: {self.rollno}, Stream: {self.stream}\")\n",
    "\n",
    "# Create an object of the Student class\n",
    "student = Student(\"John Doe\", 20, \"S123\", \"Computer Science\")\n",
    "student.display()"
   ]
  },
  {
   "cell_type": "code",
   "execution_count": 2,
   "metadata": {},
   "outputs": [
    {
     "name": "stdout",
     "output_type": "stream",
     "text": [
      "Area: 78.53981633974483\n",
      "Perimeter: 31.41592653589793\n"
     ]
    }
   ],
   "source": [
    "#2\n",
    "import math\n",
    "\n",
    "class Circle:\n",
    "    def __init__(self, radius):\n",
    "        self.radius = radius\n",
    "\n",
    "    def area(self):\n",
    "        return math.pi * (self.radius ** 2)\n",
    "\n",
    "    def perimeter(self):\n",
    "        return 2 * math.pi * self.radius\n",
    "\n",
    "circle = Circle(5)\n",
    "print(\"Area:\", circle.area())\n",
    "print(\"Perimeter:\", circle.perimeter())"
   ]
  },
  {
   "cell_type": "code",
   "execution_count": 3,
   "metadata": {},
   "outputs": [
    {
     "name": "stdout",
     "output_type": "stream",
     "text": [
      "15\n",
      "5\n",
      "50\n",
      "Cannot divide by zero\n"
     ]
    }
   ],
   "source": [
    "#3\n",
    "class Calculator:\n",
    "    def add(self, a, b):\n",
    "        return a + b\n",
    "\n",
    "    def subtract(self, a, b):\n",
    "        return a - b\n",
    "\n",
    "    def multiply(self, a, b):\n",
    "        return a * b\n",
    "\n",
    "    def divide(self, a, b):\n",
    "        if b != 0:\n",
    "            return a / b\n",
    "        else:\n",
    "            return \"Cannot divide by zero\"\n",
    "\n",
    "calc = Calculator()\n",
    "print(calc.add(10, 5))\n",
    "print(calc.subtract(10, 5))\n",
    "print(calc.multiply(10, 5))\n",
    "print(calc.divide(10, 0))"
   ]
  },
  {
   "cell_type": "code",
   "execution_count": 4,
   "metadata": {},
   "outputs": [
    {
     "name": "stdout",
     "output_type": "stream",
     "text": [
      "Total Price: 2.5\n",
      "Total Price after removing Apple: 1.0\n"
     ]
    }
   ],
   "source": [
    "#4\n",
    "class ShoppingCart:\n",
    "    def __init__(self):\n",
    "        self.items = {}\n",
    "\n",
    "    def add_item(self, item, price):\n",
    "        self.items[item] = price\n",
    "\n",
    "    def remove_item(self, item):\n",
    "        if item in self.items:\n",
    "            del self.items[item]\n",
    "\n",
    "    def total_price(self):\n",
    "        return sum(self.items.values())\n",
    "\n",
    "cart = ShoppingCart()\n",
    "cart.add_item(\"Apple\", 1.5)\n",
    "cart.add_item(\"Banana\", 1.0)\n",
    "print(\"Total Price:\", cart.total_price())\n",
    "cart.remove_item(\"Apple\")\n",
    "print(\"Total Price after removing Apple:\", cart.total_price())"
   ]
  },
  {
   "cell_type": "code",
   "execution_count": 5,
   "metadata": {},
   "outputs": [
    {
     "name": "stdout",
     "output_type": "stream",
     "text": [
      "Name: ADAMS, ID: E7876, Salary: 50000, Department: ACCOUNTING\n",
      "Name: ADAMS, ID: E7876, Salary: 50000, Department: HR\n",
      "Salary after working 60 hours: 60000.0\n"
     ]
    }
   ],
   "source": [
    "#5\n",
    "class Employee:\n",
    "    def __init__(self, emp_name, emp_id, emp_salary, emp_department):\n",
    "        self.emp_name = emp_name\n",
    "        self.emp_id = emp_id\n",
    "        self.emp_salary = emp_salary\n",
    "        self.emp_department = emp_department\n",
    "\n",
    "    def calculate_emp_salary(self, hours_worked):\n",
    "        if hours_worked > 50:\n",
    "            overtime = hours_worked - 50\n",
    "            overtime_amount = (overtime * (self.emp_salary / 50))\n",
    "            return self.emp_salary + overtime_amount\n",
    "        return self.emp_salary\n",
    "\n",
    "    def emp_assign_department(self, new_department):\n",
    "        self.emp_department = new_department\n",
    "\n",
    "    def print_employee_details(self):\n",
    "        print(f\"Name: {self.emp_name}, ID: {self.emp_id}, Salary: {self.emp_salary}, Department: {self.emp_department}\")\n",
    "\n",
    "emp1 = Employee(\"ADAMS\", \"E7876\", 50000, \"ACCOUNTING\")\n",
    "emp1.print_employee_details()\n",
    "emp1.emp_assign_department(\"HR\")\n",
    "emp1.print_employee_details()\n",
    "print(\"Salary after working 60 hours:\", emp1.calculate_emp_salary(60))"
   ]
  },
  {
   "cell_type": "code",
   "execution_count": 6,
   "metadata": {},
   "outputs": [
    {
     "name": "stdout",
     "output_type": "stream",
     "text": [
      "Balance after deposit: 1500\n",
      "Balance after withdrawal: 1200\n",
      "Current Balance: 1200\n"
     ]
    }
   ],
   "source": [
    "#6\n",
    "class BankAccount:\n",
    "    def __init__(self, account_number, customer_name, balance=0, date_of_opening=None):\n",
    "        self.account_number = account_number\n",
    "        self.customer_name = customer_name\n",
    "        self.balance = balance\n",
    "        self.date_of_opening = date_of_opening\n",
    "\n",
    "    def deposit(self, amount):\n",
    "        self.balance += amount\n",
    "        return self.balance\n",
    "\n",
    "    def withdraw(self, amount):\n",
    "        if amount <= self.balance:\n",
    "            self.balance -= amount\n",
    "            return self.balance\n",
    "        else:\n",
    "            return \"Insufficient funds\"\n",
    "\n",
    "    def check_balance(self):\n",
    "        return self.balance\n",
    "\n",
    "account = BankAccount(\"123456\", \"John Doe\", 1000)\n",
    "print(\"Balance after deposit:\", account.deposit(500))\n",
    "print(\"Balance after withdrawal:\", account.withdraw(300))\n",
    "print(\"Current Balance:\", account.check_balance())"
   ]
  },
  {
   "cell_type": "code",
   "execution_count": 7,
   "metadata": {},
   "outputs": [
    {
     "name": "stdout",
     "output_type": "stream",
     "text": [
      "Circle Area: 78.53981633974483\n",
      "Rectangle Area: 20\n",
      "Triangle Area: 6.0\n"
     ]
    }
   ],
   "source": [
    "#7\n",
    "class Shape:\n",
    "    def __init__(self, colour):\n",
    "        self.colour = colour\n",
    "\n",
    "class Circle(Shape):\n",
    "    def __init__(self, radius, colour):\n",
    "        super().__init__(colour)\n",
    "        self.radius = radius\n",
    "\n",
    "    def calculate_area(self):\n",
    "        return math.pi * (self.radius ** 2)\n",
    "\n",
    "class Rectangle(Shape):\n",
    "    def __init__(self, width, height, colour):\n",
    "        super().__init__(colour)\n",
    "        self.width = width\n",
    "        self.height = height\n",
    "\n",
    "    def calculate_area(self):\n",
    "        return self.width * self.height\n",
    "\n",
    "class Triangle(Shape):\n",
    "    def __init__(self, base, height, colour):\n",
    "        super().__init__(colour)\n",
    "        self.base = base\n",
    "        self.height = height\n",
    "\n",
    "    def calculate_area(self):\n",
    "        return 0.5 * self.base * self.height\n",
    "\n",
    "circle = Circle(5, \"Red\")\n",
    "rectangle = Rectangle(4, 5, \"Blue\")\n",
    "triangle = Triangle(4, 3, \"Green\")\n",
    "\n",
    "print(\"Circle Area:\", circle.calculate_area())\n",
    "print(\"Rectangle Area:\", rectangle.calculate_area())\n",
    "print(\"Triangle Area:\", triangle.calculate_area())"
   ]
  },
  {
   "cell_type": "code",
   "execution_count": 8,
   "metadata": {},
   "outputs": [
    {
     "name": "stdout",
     "output_type": "stream",
     "text": [
      "Number of words: 1\n"
     ]
    }
   ],
   "source": [
    "#8\n",
    "def count_words_in_file(filename):\n",
    "    with open(filename, 'r') as file:\n",
    "        text = file.read()\n",
    "        words = text.split()\n",
    "        return len(words)\n",
    "\n",
    "print(\"Number of words:\", count_words_in_file('./sample.txt'))\n",
    "   "
   ]
  },
  {
   "cell_type": "code",
   "execution_count": 9,
   "metadata": {},
   "outputs": [
    {
     "name": "stdout",
     "output_type": "stream",
     "text": [
      "Happy Programming\n"
     ]
    }
   ],
   "source": [
    "#9\n",
    "with open('output.txt', 'w') as file:\n",
    "    file.write(\"Happy Programming\")\n",
    "\n",
    "with open('output.txt', 'r') as file:\n",
    "    content = file.read()\n",
    "    print(content)"
   ]
  },
  {
   "cell_type": "code",
   "execution_count": 10,
   "metadata": {},
   "outputs": [
    {
     "name": "stdout",
     "output_type": "stream",
     "text": [
      "jadoo\n",
      "jadoo\n",
      "jadoo\n",
      "['jadoo']\n"
     ]
    }
   ],
   "source": [
    "#10\n",
    "with open('sample.txt', 'r') as file:\n",
    "    print(file.read())        # i) read()\n",
    "    file.seek(0)              # Reset file pointer\n",
    "    print(file.read(5))       # ii) read(n)\n",
    "    file.seek(0)              # Reset file pointer\n",
    "    print(file.readline())     # iii) readline()\n",
    "    file.seek(0)              # Reset file pointer\n",
    "    print(file.readlines())    # iv) readlines()"
   ]
  },
  {
   "cell_type": "code",
   "execution_count": 11,
   "metadata": {},
   "outputs": [],
   "source": [
    "#11\n",
    "with open('output.txt', 'w') as file:\n",
    "    file.write(\"Hello World\")  # i) write()\n",
    "    file.writelines([\"Line 1\\n\", \"Line 2\\n\"])  # ii) writelines()"
   ]
  },
  {
   "cell_type": "code",
   "execution_count": 12,
   "metadata": {},
   "outputs": [
    {
     "name": "stdout",
     "output_type": "stream",
     "text": [
      "jadoo\n",
      "\n",
      "\n"
     ]
    }
   ],
   "source": [
    "#12\n",
    "def read_first_n_lines(filename, n):\n",
    "    with open(filename, 'r') as file:\n",
    "        for _ in range(n):\n",
    "            print(file.readline().strip())\n",
    "\n",
    "read_first_n_lines('sample.txt', 3)"
   ]
  },
  {
   "cell_type": "code",
   "execution_count": 13,
   "metadata": {},
   "outputs": [
    {
     "name": "stdout",
     "output_type": "stream",
     "text": [
      "Hello WorldLine 1\n",
      "Line 2\n",
      "\n",
      "Appending this line.\n"
     ]
    }
   ],
   "source": [
    "#13\n",
    "with open('output.txt', 'a') as file:\n",
    "    file.write(\"\\nAppending this line.\")\n",
    "\n",
    "with open('output.txt', 'r') as file:\n",
    "    print(file.read())"
   ]
  },
  {
   "cell_type": "code",
   "execution_count": 14,
   "metadata": {},
   "outputs": [
    {
     "name": "stdout",
     "output_type": "stream",
     "text": [
      "jadoo\n"
     ]
    }
   ],
   "source": [
    "#14\n",
    "def read_last_n_lines(filename, n):\n",
    "    with open(filename, 'r') as file:\n",
    "        lines = file.readlines()\n",
    "        for line in lines[-n:]:\n",
    "            print(line.strip())\n",
    "\n",
    "read_last_n_lines('sample.txt', 3)"
   ]
  },
  {
   "cell_type": "code",
   "execution_count": 15,
   "metadata": {},
   "outputs": [
    {
     "name": "stdout",
     "output_type": "stream",
     "text": [
      "['jadoo']\n"
     ]
    }
   ],
   "source": [
    "#15\n",
    "def read_file_to_list(filename):\n",
    "    with open(filename, 'r') as file:\n",
    "        return file.readlines()\n",
    "\n",
    "lines = read_file_to_list('sample.txt')\n",
    "print(lines)"
   ]
  },
  {
   "cell_type": "code",
   "execution_count": 16,
   "metadata": {},
   "outputs": [
    {
     "name": "stdout",
     "output_type": "stream",
     "text": [
      "Trying to divide by zero...\n",
      "Caught a division by zero error!\n",
      "This will always execute.\n"
     ]
    }
   ],
   "source": [
    "#16\n",
    "try:\n",
    "    print(\"Trying to divide by zero...\")\n",
    "    result = 10 / 0\n",
    "except ZeroDivisionError:\n",
    "    print(\"Caught a division by zero error!\")\n",
    "finally:\n",
    "    print(\"This will always execute.\")"
   ]
  },
  {
   "cell_type": "code",
   "execution_count": 17,
   "metadata": {},
   "outputs": [],
   "source": [
    "#17\n",
    "try:\n",
    "    num = int(input(\"Enter a number: \"))\n",
    "    result = 10 / num\n",
    "except ZeroDivisionError:\n",
    "    print(\"Cannot divide by zero!\")"
   ]
  },
  {
   "cell_type": "code",
   "execution_count": 18,
   "metadata": {},
   "outputs": [],
   "source": [
    "#18\n",
    "try:\n",
    "    num = int(input(\"Enter an integer: \"))\n",
    "except ValueError:\n",
    "    print(\"That's not a valid integer!\")"
   ]
  },
  {
   "cell_type": "code",
   "execution_count": 19,
   "metadata": {},
   "outputs": [
    {
     "name": "stdout",
     "output_type": "stream",
     "text": [
      "Result: 3.3333333333333335\n"
     ]
    }
   ],
   "source": [
    "#19\n",
    "try:\n",
    "    num = int(input(\"Enter a number: \"))\n",
    "    result = 10 / num\n",
    "except ZeroDivisionError:\n",
    "    print(\"Cannot divide by zero!\")\n",
    "except ValueError:\n",
    "    print(\"That's not a valid integer!\")\n",
    "else:\n",
    "    print(\"Result:\", result)"
   ]
  },
  {
   "cell_type": "code",
   "execution_count": 20,
   "metadata": {},
   "outputs": [],
   "source": [
    "#20\n",
    "try:\n",
    "    num = int(input(\"Enter a number: \"))\n",
    "    result = 10 / num\n",
    "except (ZeroDivisionError, ValueError) as e:\n",
    "    print(f\"Error occurred: {e}\")"
   ]
  },
  {
   "cell_type": "code",
   "execution_count": 21,
   "metadata": {},
   "outputs": [
    {
     "name": "stdout",
     "output_type": "stream",
     "text": [
      "[1, 4, 9, 16, 25]\n"
     ]
    }
   ],
   "source": [
    "#21\n",
    "numbers = [1, 2, 3, 4, 5]\n",
    "squares = list(map(lambda x: x ** 2, numbers))\n",
    "print(squares)"
   ]
  },
  {
   "cell_type": "code",
   "execution_count": 22,
   "metadata": {},
   "outputs": [
    {
     "name": "stdout",
     "output_type": "stream",
     "text": [
      "[2, 4, 6]\n"
     ]
    }
   ],
   "source": [
    "#22\n",
    "numbers = [1, 2, 3, 4, 5, 6]\n",
    "evens = list(filter(lambda x: x % 2 == 0, numbers))\n",
    "print(evens)"
   ]
  },
  {
   "cell_type": "code",
   "execution_count": 23,
   "metadata": {},
   "outputs": [
    {
     "name": "stdout",
     "output_type": "stream",
     "text": [
      "Evens: [2, 4, 6]\n",
      "Odds: [1, 3, 5]\n"
     ]
    }
   ],
   "source": [
    "#23\n",
    "numbers = [1, 2, 3, 4, 5, 6]\n",
    "evens = list(filter(lambda x: x % 2 == 0, numbers))\n",
    "odds = list(filter(lambda x: x % 2 != 0, numbers))\n",
    "print(\"Evens:\", evens)\n",
    "print(\"Odds:\", odds)"
   ]
  },
  {
   "cell_type": "code",
   "execution_count": 24,
   "metadata": {},
   "outputs": [
    {
     "name": "stdout",
     "output_type": "stream",
     "text": [
      "Squares: [1, 4, 9, 16, 25]\n",
      "Cubes: [1, 8, 27, 64, 125]\n"
     ]
    }
   ],
   "source": [
    "#24\n",
    "numbers = [1, 2, 3, 4, 5]\n",
    "squares = list(map(lambda x: x ** 2, numbers))\n",
    "cubes = list(map(lambda x: x ** 3, numbers))\n",
    "print(\"Squares:\", squares)\n",
    "print(\"Cubes:\", cubes)"
   ]
  },
  {
   "cell_type": "code",
   "execution_count": 25,
   "metadata": {},
   "outputs": [
    {
     "name": "stdout",
     "output_type": "stream",
     "text": [
      "25\n"
     ]
    }
   ],
   "source": [
    "#25\n",
    "add_15 = lambda x: x + 15\n",
    "print(add_15(10))"
   ]
  },
  {
   "cell_type": "code",
   "execution_count": 26,
   "metadata": {},
   "outputs": [
    {
     "name": "stdout",
     "output_type": "stream",
     "text": [
      "15\n"
     ]
    }
   ],
   "source": [
    "#26\n",
    "multiply = lambda x, y: x * y\n",
    "print(multiply(5, 3))"
   ]
  }
 ],
 "metadata": {
  "kernelspec": {
   "display_name": "Python 3",
   "language": "python",
   "name": "python3"
  },
  "language_info": {
   "codemirror_mode": {
    "name": "ipython",
    "version": 3
   },
   "file_extension": ".py",
   "mimetype": "text/x-python",
   "name": "python",
   "nbconvert_exporter": "python",
   "pygments_lexer": "ipython3",
   "version": "3.12.5"
  }
 },
 "nbformat": 4,
 "nbformat_minor": 2
}
