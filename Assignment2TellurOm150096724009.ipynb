{
 "cells": [
  {
   "cell_type": "code",
   "execution_count": null,
   "metadata": {},
   "outputs": [],
   "source": [
    "def count_case(s):\n",
    "    upper_count = sum(1 for c in s if c.isupper())\n",
    "    lower_count = sum(1 for c in s if c.islower())\n",
    "    return upper_count, lower_count\n",
    "\n",
    "sample_string = 'The quick Brow Fox'\n",
    "upper, lower = count_case(sample_string)\n",
    "print(f'No. of Upper case characters : {upper}')\n",
    "print(f'No. of Lower case Characters : {lower}')\n"
   ]
  },
  {
   "cell_type": "code",
   "execution_count": null,
   "metadata": {},
   "outputs": [],
   "source": [
    "def unique_elements(lst):\n",
    "    return list(set(lst))\n",
    "\n",
    "sample_list = [1, 2, 3, 3, 3, 3, 4, 5]\n",
    "unique_list = unique_elements(sample_list)\n",
    "print('Unique List :', unique_list)\n",
    "\n"
   ]
  },
  {
   "cell_type": "code",
   "execution_count": null,
   "metadata": {},
   "outputs": [],
   "source": [
    "def is_perfect(n):\n",
    "    if n < 1:\n",
    "        return False\n",
    "    divisors_sum = sum(i for i in range(1, n) if n % i == 0)\n",
    "    return divisors_sum == n\n",
    "\n",
    "# Example usage\n",
    "print(is_perfect(6))  # True\n",
    "print(is_perfect(28))  # True\n"
   ]
  },
  {
   "cell_type": "code",
   "execution_count": null,
   "metadata": {},
   "outputs": [],
   "source": [
    "def sort_hyphenated_words(s):\n",
    "    words = s.split('-')\n",
    "    words.sort()\n",
    "    return '-'.join(words)\n",
    "\n",
    "input_string = 'green-red-yellow-black-white'\n",
    "sorted_words = sort_hyphenated_words(input_string)\n",
    "print(sorted_words)\n"
   ]
  },
  {
   "cell_type": "code",
   "execution_count": null,
   "metadata": {},
   "outputs": [],
   "source": [
    "def positional_args(arg1, arg2):\n",
    "    print(f'Argument 1: {arg1}, Argument 2: (arg2')\n",
    "\n",
    "positional_args(10, 20)\n",
    "\n"
   ]
  },
  {
   "cell_type": "code",
   "execution_count": null,
   "metadata": {},
   "outputs": [],
   "source": [
    "def keyword_args(arg1, arg2):\n",
    "    print(f'Argument 1: {arg1}, Argument 2: {arg2}')\n",
    "\n",
    "keyword_args(arg2=20, arg1=10)\n"
   ]
  },
  {
   "cell_type": "code",
   "execution_count": null,
   "metadata": {},
   "outputs": [],
   "source": [
    "def mixed_args(arg1, arg2, arg3='default'):\n",
    "    print(f'Positional Arg 1: {arg1}, Positional Arg 2: {arg2}, Keyword Arg: {arg3}')\n",
    "\n",
    "mixed_args(10, 20, arg3='custom')\n"
   ]
  },
  {
   "cell_type": "code",
   "execution_count": null,
   "metadata": {},
   "outputs": [],
   "source": [
    "def default_arg(arg1, arg2=5):\n",
    "    return arg1 + arg2\n",
    "\n",
    "print(default_arg(10))  # Uses default for arg2\n",
    "print(default_arg(10, 15))  # Overrides default\n"
   ]
  },
  {
   "cell_type": "code",
   "execution_count": null,
   "metadata": {},
   "outputs": [],
   "source": [
    "def variable_args(*args):\n",
    "    return sum(args)\n",
    "\n",
    "print(variable_args(1, 2, 3, 4))  # 10\n"
   ]
  },
  {
   "cell_type": "code",
   "execution_count": null,
   "metadata": {},
   "outputs": [],
   "source": [
    "def variable_keyword_args(**kwargs):\n",
    "    for key, value in kwargs.items():\n",
    "        print(f'{key}: {value}')\n",
    "\n",
    "variable_keyword_args(a=1, b=2, c=3)\n"
   ]
  },
  {
   "cell_type": "code",
   "execution_count": null,
   "metadata": {},
   "outputs": [],
   "source": [
    "def add(x: float, y: float) -> float:\n",
    "    return x + y\n",
    "\n",
    "def subtract(x: float, y: float) -> float:\n",
    "    return x - y\n",
    "\n",
    "if __name__ == \"__main__\":\n",
    "    # Example usage\n",
    "    print(add(5, 3))      # 8\n",
    "    print(subtract(5, 3)) # 2\n"
   ]
  },
  {
   "cell_type": "code",
   "execution_count": null,
   "metadata": {},
   "outputs": [],
   "source": [
    "import math\n",
    "\n",
    "print(math.ceil(5.2))       # 6\n",
    "print(math.trunc(5.9))      # 5\n",
    "print(math.floor(5.9))      # 5\n",
    "print(math.factorial(5))    # 120\n",
    "print(math.fabs(-5.5))      # 5.5\n",
    "print(math.pow(2, 3))       # 8\n",
    "print(math.fmod(5, 2))      # 1.0\n",
    "print(math.fsum([1, 2, 3])) # 6.0\n",
    "print(math.prod([1, 2, 3])) # 6\n",
    "print(math.sqrt(16))        # 4.0\n"
   ]
  },
  {
   "cell_type": "code",
   "execution_count": null,
   "metadata": {},
   "outputs": [],
   "source": [
    "import random\n",
    "\n",
    "print(random.random())      # Random float [0.0, 1.0)\n",
    "print(random.randint(1, 10))# Random integer between 1 and 10\n",
    "print(random.uniform(1, 10))# Random float between 1 and 10\n",
    "print(random.choice(['apple', 'banana', 'cherry'])) # Random choice\n",
    "lst = [1, 2, 3, 4, 5]\n",
    "random.shuffle(lst)        # Shuffle the list\n",
    "print(lst)\n",
    "print(random.randrange(1, 10, 2)) # Random odd number between 1 and 10\n"
   ]
  },
  {
   "cell_type": "code",
   "execution_count": null,
   "metadata": {},
   "outputs": [],
   "source": [
    "def remove_duplicates(lst):\n",
    "    return list(set(lst))\n",
    "\n",
    "print(remove_duplicates([1, 2, 2, 3, 4, 4, 5]))\n"
   ]
  },
  {
   "cell_type": "code",
   "execution_count": null,
   "metadata": {},
   "outputs": [],
   "source": [
    "def have_common_member(list1, list2):\n",
    "    return any(item in list2 for item in list1)\n",
    "\n",
    "print(have_common_member([1, 2, 3], [3, 4, 5]))  # True\n"
   ]
  },
  {
   "cell_type": "code",
   "execution_count": null,
   "metadata": {},
   "outputs": [],
   "source": [
    "def remove_even(lst):\n",
    "    return [num for num in lst if num % 2 != 0]\n",
    "\n",
    "print(remove_even([1, 2, 3, 4, 5, 6]))  # [1, 3, 5]\n"
   ]
  },
  {
   "cell_type": "code",
   "execution_count": null,
   "metadata": {},
   "outputs": [],
   "source": [
    "def second_smallest(lst):\n",
    "    unique_sorted = sorted(set(lst))\n",
    "    return unique_sorted[1] if len(unique_sorted) > 1 else None\n",
    "\n",
    "print(second_smallest([3, 1, 2, 2, 5]))  # 2\n"
   ]
  },
  {
   "cell_type": "code",
   "execution_count": null,
   "metadata": {},
   "outputs": [],
   "source": [
    "def split_every_n(lst, n):\n",
    "    return [lst[i:i + n] for i in range(0, len(lst), n)]\n",
    "\n",
    "print(split_every_n([1, 2, 3, 4, 5, 6], 2))  # [[1, 2], [3, 4], [5, 6]]\n"
   ]
  },
  {
   "cell_type": "code",
   "execution_count": null,
   "metadata": {},
   "outputs": [],
   "source": [
    "def union_and_intersection(list1, list2):\n",
    "    union = list(set(list1) | set(list2))\n",
    "    intersection = list(set(list1) & set(list2))\n",
    "    return union, intersection\n",
    "\n",
    "print(union_and_intersection([1, 2, 3], [3, 4, 5]))\n"
   ]
  },
  {
   "cell_type": "code",
   "execution_count": null,
   "metadata": {},
   "outputs": [],
   "source": [
    "def is_palindrome(lst):\n",
    "    return lst == lst[::-1]\n",
    "\n",
    "print(is_palindrome([1, 2, 3, 2, 1]))  # True\n"
   ]
  },
  {
   "cell_type": "code",
   "execution_count": 72,
   "metadata": {},
   "outputs": [],
   "source": [
    "def menu():\n",
    "    lst = []\n",
    "    while True:\n",
    "        print(\"1. Insert\\n2. Delete\\n3. Access\\n4. Update\\n5. Traverse\\n6. Exit\")\n",
    "        choice = input(\"Choose an option: \")\n",
    "        if choice == '1':\n",
    "            item = input(\"Enter item to insert: \")\n",
    "            lst.append(item)\n",
    "        elif choice == '2':\n",
    "            item = input(\"Enter item to delete: \")\n",
    "            lst.remove(item)\n",
    "        elif choice == '3':\n",
    "            index = int(input(\"Enter index to access: \"))\n",
    "            print(lst[index])\n",
    "        elif choice == '4':\n",
    "            index = int(input(\"Enter index to update: \"))\n",
    "            item = input(\"Enter new item: \")\n",
    "            lst[index] = item\n",
    "        elif choice == '5':\n",
    "            print(lst)\n",
    "        elif choice == '6':\n",
    "            break\n"
   ]
  },
  {
   "cell_type": "code",
   "execution_count": null,
   "metadata": {},
   "outputs": [],
   "source": [
    "nested_list = [[1, 2], [3, 4], [5, 6]]\n",
    "\n",
    "# Accessing elements\n",
    "print(nested_list[1][0])  # 3\n",
    "\n",
    "# Adding an element\n",
    "nested_list[0].append(5)\n",
    "print(nested_list)  # [[1, 2, 5], [3, 4], [5, 6]]\n",
    "\n",
    "# Deleting an element\n",
    "del nested_list[1]\n",
    "print(nested_list)  # [[1, 2, 5], [5, 6]]\n"
   ]
  },
  {
   "cell_type": "code",
   "execution_count": null,
   "metadata": {},
   "outputs": [],
   "source": [
    "a = [10, 20, 30, 40, 50, 60, 70, 80, 90, 100]\n",
    "\n",
    "# i. Print Complete list\n",
    "print(a)\n",
    "\n",
    "# ii. Print 4th element of list\n",
    "print(a[3])\n",
    "\n",
    "# iii. Print list from 0th to 4th index.\n",
    "print(a[0:5])\n",
    "\n",
    "# iv. Print list -7th to 3rd element\n",
    "print(a[-7:4])\n",
    "\n",
    "# v. Appending an element to list.\n",
    "a.append(110)\n",
    "print(a)\n",
    "\n",
    "# vi. Sorting the element of list.\n",
    "a.sort()\n",
    "print(a)\n",
    "\n",
    "# vii. Popping an element.\n",
    "a.pop()\n",
    "print(a)\n",
    "\n",
    "# viii. Removing Specified element.\n",
    "a.remove(20)\n",
    "print(a)\n",
    "\n",
    "# ix. Entering an element at specified index.\n",
    "a.insert(1, 15)\n",
    "print(a)\n",
    "\n",
    "# x. Counting the occurrence of a specified element.\n",
    "print(a.count(30))\n",
    "\n",
    "# xi. Extending list.\n",
    "a.extend([120, 130])\n",
    "print(a)\n",
    "\n",
    "# xii. Reversing the list.\n",
    "a.reverse()\n",
    "print(a)\n"
   ]
  },
  {
   "cell_type": "code",
   "execution_count": null,
   "metadata": {},
   "outputs": [],
   "source": [
    "def add_matrices(matrix1, matrix2):\n",
    "    return [[matrix1[i][j] + matrix2[i][j] for j in range(len(matrix1[0]))] for i in range(len(matrix1))]\n",
    "\n",
    "matrix1 = [[1, 2, 3], [4, 5, 6]]\n",
    "matrix2 = [[7, 8, 9], [10, 11, 12]]\n",
    "result = add_matrices(matrix1, matrix2)\n",
    "print(result)  # [[8, 10, 12], [14, 16, 18]]\n"
   ]
  },
  {
   "cell_type": "code",
   "execution_count": null,
   "metadata": {},
   "outputs": [],
   "source": [
    "l1 = [1, 'x', 4, 5.6, 'z', 9, 'a', 0, 4]\n",
    "l2 = [x for x in l1 if isinstance(x, int)]\n",
    "print(l2)  # [1, 9, 0, 4]\n",
    "\n"
   ]
  },
  {
   "cell_type": "code",
   "execution_count": null,
   "metadata": {},
   "outputs": [],
   "source": [
    "def tuple_sum(t1, t2):\n",
    "    return tuple(a + b for a, b in zip(t1, t2))\n",
    "\n",
    "t1 = (1, 2, 3, 4)\n",
    "t2 = (3, 5, 2, 1)\n",
    "result = tuple_sum(t1, t2)\n",
    "print(result)  # (4, 7, 5, 5)\n"
   ]
  },
  {
   "cell_type": "code",
   "execution_count": null,
   "metadata": {},
   "outputs": [],
   "source": [
    "def tuples_to_lists(tuples):\n",
    "    return [list(t) for t in tuples]\n",
    "\n",
    "original = [(1, 2), (2, 3), (3, 4)]\n",
    "result = tuples_to_lists(original)\n",
    "print(result)  # [[1, 2], [2, 3], [3, 4]]\n"
   ]
  },
  {
   "cell_type": "code",
   "execution_count": null,
   "metadata": {},
   "outputs": [],
   "source": [
    "def remove_empty_tuples(tuples):\n",
    "    return [t for t in tuples if t]\n",
    "\n",
    "tuples = [(1, 2), (), (3, 4), (), (5,)]\n",
    "result = remove_empty_tuples(tuples)\n",
    "print(result)  # [(1, 2), (3, 4), (5,)]\n"
   ]
  },
  {
   "cell_type": "code",
   "execution_count": null,
   "metadata": {},
   "outputs": [],
   "source": [
    "def string_to_tuple(s):\n",
    "    return tuple(s)\n",
    "\n",
    "result = string_to_tuple(\"Hello\")\n",
    "print(result)  # ('H', 'e', 'l', 'l', 'o')\n"
   ]
  },
  {
   "cell_type": "code",
   "execution_count": null,
   "metadata": {},
   "outputs": [],
   "source": [
    "def product_of_tuple(t):\n",
    "    product = 1\n",
    "    for num in t:\n",
    "        product *= num\n",
    "    return product\n",
    "\n",
    "t = (1, 2, 3, 4)\n",
    "result = product_of_tuple(t)\n",
    "print(result)  # 24\n"
   ]
  },
  {
   "cell_type": "code",
   "execution_count": null,
   "metadata": {},
   "outputs": [],
   "source": [
    "squares = [x**2 for x in range(1, 21)]\n",
    "print(squares)\n"
   ]
  },
  {
   "cell_type": "code",
   "execution_count": null,
   "metadata": {},
   "outputs": [],
   "source": [
    "def remove_item(s, item):\n",
    "    s.discard(item)\n",
    "    return s\n",
    "\n",
    "s = {1, 2, 3, 4}\n",
    "print(remove_item(s, 2))  # {1, 3, 4}\n"
   ]
  },
  {
   "cell_type": "code",
   "execution_count": null,
   "metadata": {},
   "outputs": [],
   "source": [
    "def no_common_elements(set1, set2):\n",
    "    return set1.isdisjoint(set2)\n",
    "\n",
    "print(no_common_elements({1, 2, 3}, {4, 5, 6}))  # True\n"
   ]
  },
  {
   "cell_type": "code",
   "execution_count": null,
   "metadata": {},
   "outputs": [],
   "source": [
    "def unique_items(set1, set2):\n",
    "    return set1.union(set2)\n",
    "\n",
    "set1 = {1, 2, 3}\n",
    "set2 = {3, 4, 5}\n",
    "print(unique_items(set1, set2))  # {1, 2, 3, 4, 5}\n"
   ]
  },
  {
   "cell_type": "code",
   "execution_count": null,
   "metadata": {},
   "outputs": [],
   "source": [
    "def set_to_string(s):\n",
    "    return ''.join(str(item) for item in s)\n",
    "\n",
    "s = {1, 2, 3}\n",
    "print(set_to_string(s))  # '123'\n"
   ]
  },
  {
   "cell_type": "code",
   "execution_count": null,
   "metadata": {},
   "outputs": [],
   "source": [
    "def count_vowels(s):\n",
    "    vowels = set('aeiouAEIOU')\n",
    "    return sum(1 for char in s if char in vowels)\n",
    "\n",
    "print(count_vowels(\"Hello World\"))  # 3\n"
   ]
  },
  {
   "cell_type": "code",
   "execution_count": null,
   "metadata": {},
   "outputs": [],
   "source": [
    "cubes = {x**3 for x in range(2, 13, 2)}\n",
    "print(cubes)  # {8, 64, 216, 1000, 512, 27}\n"
   ]
  },
  {
   "cell_type": "code",
   "execution_count": null,
   "metadata": {},
   "outputs": [],
   "source": [
    "def sort_dict_by_value(d, ascending=True):\n",
    "    return dict(sorted(d.items(), key=lambda item: item[1], reverse=not ascending))\n",
    "\n",
    "d = {'a': 1, 'b': 3, 'c': 2}\n",
    "print(sort_dict_by_value(d))  # Ascending\n",
    "print(sort_dict_by_value(d, ascending=False))  # Descending\n"
   ]
  },
  {
   "cell_type": "code",
   "execution_count": null,
   "metadata": {},
   "outputs": [],
   "source": [
    "def remove_duplicates_dict(d):\n",
    "    return {k: v for k, v in d.items() if v not in d.values()}\n",
    "\n",
    "d = {'a': 1, 'b': 1, 'c': 2}\n",
    "print(remove_duplicates_dict(d))  # {'c': 2}\n"
   ]
  },
  {
   "cell_type": "code",
   "execution_count": null,
   "metadata": {},
   "outputs": [],
   "source": [
    "def combine_dicts(d1, d2):\n",
    "    for key in d2:\n",
    "        if key in d1:\n",
    "            d1[key] += d2[key]\n",
    "        else:\n",
    "            d1[key] = d2[key]\n",
    "    return d1\n",
    "\n",
    "d1 = {'a': 1, 'b': 2}\n",
    "d2 = {'b': 3, 'c': 4}\n",
    "print(combine_dicts(d1, d2))  # {'a': 1, 'b': 5, 'c': 4}\n"
   ]
  },
  {
   "cell_type": "code",
   "execution_count": null,
   "metadata": {},
   "outputs": [],
   "source": [
    "def char_count(s):\n",
    "    count = {}\n",
    "    for char in s:\n",
    "        if char in count:\n",
    "            count[char] += 1\n",
    "        else:\n",
    "            count[char] = 1\n",
    "    return count\n",
    "\n",
    "print(char_count(\"hello world\"))\n"
   ]
  },
  {
   "cell_type": "code",
   "execution_count": null,
   "metadata": {},
   "outputs": [],
   "source": [
    "def match_dicts(d1, d2):\n",
    "    return {k: v for k, v in d1.items() if k in d2 and d1[k] == d2[k]}\n",
    "\n",
    "d1 = {'a': 1, 'b': 2}\n",
    "d2 = {'b': 2, 'c': 3}\n",
    "print(match_dicts(d1, d2))  # {'b': 2}\n"
   ]
  },
  {
   "cell_type": "code",
   "execution_count": null,
   "metadata": {},
   "outputs": [],
   "source": [
    "def convert_prices_to_pounds(prices):\n",
    "    return {item: round(price * 0.73, 2) for item, price in prices.items()}\n",
    "\n",
    "old_price = {'milk': 1.02, 'coffee': 2.5, 'bread': 2.5}\n",
    "print(convert_prices_to_pounds(old_price))\n"
   ]
  },
  {
   "cell_type": "code",
   "execution_count": null,
   "metadata": {},
   "outputs": [],
   "source": [
    "def even_age_dict(original_dict):\n",
    "    return {k: v for k, v in original_dict.items() if v % 2 == 0}\n",
    "\n",
    "original_dict = {'jack': 38, 'michael': 48, 'guido': 57, 'john': 33}\n",
    "print(even_age_dict(original_dict))\n"
   ]
  }
 ],
 "metadata": {
  "kernelspec": {
   "display_name": "Python 3",
   "language": "python",
   "name": "python3"
  },
  "language_info": {
   "codemirror_mode": {
    "name": "ipython",
    "version": 3
   },
   "file_extension": ".py",
   "mimetype": "text/x-python",
   "name": "python",
   "nbconvert_exporter": "python",
   "pygments_lexer": "ipython3",
   "version": "3.12.5"
  }
 },
 "nbformat": 4,
 "nbformat_minor": 2
}
