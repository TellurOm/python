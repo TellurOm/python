{
 "cells": [
  {
   "cell_type": "code",
   "execution_count": 26,
   "metadata": {},
   "outputs": [
    {
     "name": "stdout",
     "output_type": "stream",
     "text": [
      "The number is odd.\n"
     ]
    }
   ],
   "source": [
    "input_number = int(input(\"Enter a number: \"))\n",
    "if input_number % 2 == 0:\n",
    "    print(\"The number is even.\")\n",
    "else:\n",
    "    print(\"The number is odd.\")"
   ]
  },
  {
   "cell_type": "code",
   "execution_count": 27,
   "metadata": {},
   "outputs": [
    {
     "name": "stdout",
     "output_type": "stream",
     "text": [
      "You are not eligible for voting.\n"
     ]
    }
   ],
   "source": [
    "age=int(input(\"Enter your age: \"))\n",
    "if age>=18:\n",
    "    print(\"You are eligible for voting.\")\n",
    "else:\n",
    "    print(\"You are not eligible for voting.\")"
   ]
  },
  {
   "cell_type": "code",
   "execution_count": 28,
   "metadata": {},
   "outputs": [
    {
     "name": "stdout",
     "output_type": "stream",
     "text": [
      "Wednesday\n"
     ]
    }
   ],
   "source": [
    "num=int(input(\"Enter a number between 1 to 7: \"))\n",
    "if num==1:\n",
    "    print(\"Monday\")\n",
    "elif num==2:\n",
    "    print(\"Tuesday\")\n",
    "elif num==3:\n",
    "    print(\"Wednesday\")\n",
    "elif num==4:\n",
    "    print(\"Thursday\")\n",
    "elif num==5:\n",
    "    print(\"Friday\")\n",
    "elif num==6:\n",
    "    print(\"Saturday\")\n",
    "elif num==7:\n",
    "    print(\"Sunday\")\n",
    "else:\n",
    "    print(\"Invalid input\")"
   ]
  },
  {
   "cell_type": "code",
   "execution_count": 29,
   "metadata": {},
   "outputs": [
    {
     "name": "stdout",
     "output_type": "stream",
     "text": [
      "Wednesday\n"
     ]
    }
   ],
   "source": [
    "num=int(input(\"Enter a number between 1 to 7: \"))\n",
    "match num:\n",
    "    case 1:\n",
    "        print(\"Monday\")\n",
    "    case 2:\n",
    "        print(\"Tuesday\")\n",
    "    case 3:\n",
    "        print(\"Wednesday\")\n",
    "    case 4:\n",
    "        print(\"Thursday\")\n",
    "    case 5:\n",
    "        print(\"Friday\")\n",
    "    case 6:\n",
    "        print(\"Saturday\")\n",
    "    case 7:\n",
    "        print(\"Sunday\")\n",
    "    case _:\n",
    "        print(\"Invalid input\")"
   ]
  },
  {
   "cell_type": "code",
   "execution_count": 30,
   "metadata": {},
   "outputs": [
    {
     "name": "stdout",
     "output_type": "stream",
     "text": [
      "The year is not a leap year.\n"
     ]
    }
   ],
   "source": [
    "year=int(input(\"Enter a year: \"))\n",
    "if year%400==0 or (year%4==0 and year%100!=0):\n",
    "    print(\"The year is a leap year.\")\n",
    "else:\n",
    "    print(\"The year is not a leap year.\")"
   ]
  },
  {
   "cell_type": "code",
   "execution_count": 34,
   "metadata": {},
   "outputs": [
    {
     "name": "stdout",
     "output_type": "stream",
     "text": [
      "Grade: A\n"
     ]
    }
   ],
   "source": [
    "marks1=int(input(\"Enter marks of first subject: \"))\n",
    "marks2=int(input(\"Enter marks of second subject: \"))\n",
    "marks3=int(input(\"Enter marks of third subject: \"))\n",
    "marks4=int(input(\"Enter marks of fourth subject: \"))\n",
    "marks5=int(input(\"Enter marks of fifth subject: \"))\n",
    "average=(marks1+marks2+marks3+marks4+marks5)/5\n",
    "if average>=90:\n",
    "    print(\"Grade: A\")\n",
    "elif average>=80:\n",
    "    print(\"Grade: B\")\n",
    "elif average>=70:\n",
    "    print(\"Grade: C\")\n",
    "elif average>=60:\n",
    "    print(\"Grade: D\")"
   ]
  },
  {
   "cell_type": "code",
   "execution_count": 33,
   "metadata": {},
   "outputs": [
    {
     "name": "stdout",
     "output_type": "stream",
     "text": [
      "The character is a vowel.\n"
     ]
    }
   ],
   "source": [
    "char=input(\"Enter single character: \")\n",
    "if len(char)!=1:\n",
    "    print(\"Invalid input\")\n",
    "elif char in \"aeiouAEIOU\":\n",
    "    print(\"The character is a vowel.\")\n",
    "else:\n",
    "    print(\"The character is a consonant.\")"
   ]
  },
  {
   "cell_type": "code",
   "execution_count": 35,
   "metadata": {},
   "outputs": [
    {
     "name": "stdout",
     "output_type": "stream",
     "text": [
      "4 is not found in the list.\n"
     ]
    }
   ],
   "source": [
    "inputList = input(\"Enter list of numbers: \").split()\n",
    "findVal=input(\"Enter value to find: \")\n",
    "if findVal in inputList:\n",
    "    print(f\"{findVal} is found in the list.\")\n",
    "else:\n",
    "    print(f\"{findVal} is not found in the list.\")"
   ]
  },
  {
   "cell_type": "code",
   "execution_count": 36,
   "metadata": {},
   "outputs": [
    {
     "name": "stdout",
     "output_type": "stream",
     "text": [
      "Three\n"
     ]
    }
   ],
   "source": [
    "num=int(input(\"Enter a single digit number: \"))\n",
    "if num==0:\n",
    "    print(\"Zero\")\n",
    "elif num==1:\n",
    "    print(\"One\")\n",
    "elif num==2:\n",
    "    print(\"Two\")\n",
    "elif num==3:\n",
    "    print(\"Three\")\n",
    "elif num==4:\n",
    "    print(\"Four\")\n",
    "elif num==5:\n",
    "    print(\"Five\")\n",
    "elif num==6:\n",
    "    print(\"Six\")\n",
    "elif num==7:\n",
    "    print(\"Seven\")\n",
    "elif num==8:\n",
    "    print(\"Eight\")\n",
    "elif num==9:\n",
    "    print(\"Nine\")\n",
    "else:\n",
    "    print(\"Invalid input\")"
   ]
  },
  {
   "cell_type": "code",
   "execution_count": 37,
   "metadata": {},
   "outputs": [
    {
     "name": "stdout",
     "output_type": "stream",
     "text": [
      "Numbers in ascending order using sort(): [3, 4, 5]\n",
      "Numbers in ascending order using sorted(): [3, 4, 5]\n",
      "Numbers in ascending order using for loop: [3, 4, 5]\n"
     ]
    }
   ],
   "source": [
    "num1=int(input(\"Enter first number: \"))\n",
    "num2=int(input(\"Enter second number: \"))\n",
    "num3=int(input(\"Enter third number: \"))\n",
    "\n",
    "numbers1 = [num1, num2, num3]\n",
    "numbers1.sort()\n",
    "print(\"Numbers in ascending order using sort():\", numbers1)\n",
    "\n",
    "numbers2 = sorted([num1, num2, num3])\n",
    "print(\"Numbers in ascending order using sorted():\", numbers2)\n",
    "\n",
    "numbers3 = [num1, num2, num3]\n",
    "for i in range(len(numbers3)):\n",
    "    for j in range(i+1, len(numbers3)):\n",
    "        if numbers3[i]>numbers3[j]:\n",
    "            numbers3[i], numbers3[j] = numbers3[j], numbers3[i]\n",
    "print(\"Numbers in ascending order using for loop:\", numbers3)"
   ]
  },
  {
   "cell_type": "code",
   "execution_count": 38,
   "metadata": {},
   "outputs": [
    {
     "name": "stdout",
     "output_type": "stream",
     "text": [
      "Four\n"
     ]
    }
   ],
   "source": [
    "num=int(input(\"Enter a single digit number: \"))\n",
    "match num:\n",
    "    case 0:\n",
    "        print(\"Zero\")\n",
    "    case 1:\n",
    "        print(\"One\")\n",
    "    case 2:\n",
    "        print(\"Two\")\n",
    "    case 3:\n",
    "        print(\"Three\")\n",
    "    case 4:\n",
    "        print(\"Four\")\n",
    "    case 5:\n",
    "        print(\"Five\")\n",
    "    case 6:\n",
    "        print(\"Six\")\n",
    "    case 7:\n",
    "        print(\"Seven\")\n",
    "    case 8:\n",
    "        print(\"Eight\")\n",
    "    case 9:\n",
    "        print(\"Nine\")\n",
    "    case _:\n",
    "        print(\"Invalid input\")"
   ]
  },
  {
   "cell_type": "code",
   "execution_count": 40,
   "metadata": {},
   "outputs": [
    {
     "name": "stdout",
     "output_type": "stream",
     "text": [
      "The result is 5\n"
     ]
    }
   ],
   "source": [
    "num1=int(input(\"Enter first number: \"))\n",
    "num2=int(input(\"Enter second number: \"))\n",
    "operator=input(\"Enter arithmetic operator: \")\n",
    "if operator=='+':\n",
    "    answer=num1+num2\n",
    "elif operator=='-':\n",
    "    answer=num1-num2\n",
    "elif operator=='*':\n",
    "    answer=num1*num2\n",
    "elif operator=='/':\n",
    "    answer=num1/num2\n",
    "elif operator=='%':\n",
    "    answer=num1%num2\n",
    "print(f\"The result is {answer}\")"
   ]
  },
  {
   "cell_type": "code",
   "execution_count": 41,
   "metadata": {},
   "outputs": [
    {
     "name": "stdout",
     "output_type": "stream",
     "text": [
      "Digit\n"
     ]
    }
   ],
   "source": [
    "val=input(\"Enter a character or a digit: \")\n",
    "if val.isupper():\n",
    "    print(\"Uppercase letter\")\n",
    "elif val.islower():\n",
    "    print(\"Lowercase letter\")\n",
    "elif val.isdigit():\n",
    "    print(\"Digit\")\n",
    "else:\n",
    "    print(\"Special character\")"
   ]
  },
  {
   "cell_type": "code",
   "execution_count": 42,
   "metadata": {},
   "outputs": [
    {
     "name": "stdout",
     "output_type": "stream",
     "text": [
      "Too low\n",
      "Too low\n",
      "Too high\n",
      "Too high\n",
      "Too high\n",
      "Too high\n",
      "Too high\n",
      "Too high\n",
      "Too high\n",
      "Too high\n",
      "Too high\n",
      "Too high\n",
      "Too low\n",
      "Too low\n",
      "Too high\n",
      "Too high\n",
      "Too high\n",
      "Too high\n",
      "Too high\n",
      "Too high\n",
      "Too high\n",
      "Congratulations! You guessed the number correctly.\n"
     ]
    }
   ],
   "source": [
    "import random\n",
    "answer=random.randint(1,100)\n",
    "guess=int(input(\"Enter your guess: \"))\n",
    "while guess!=answer:\n",
    "    if guess<answer:\n",
    "        print(\"Too low\")\n",
    "    else:\n",
    "        print(\"Too high\")\n",
    "    guess=int(input(\"Enter your guess: \"))\n",
    "print(\"Congratulations! You guessed the number correctly.\")"
   ]
  },
  {
   "cell_type": "code",
   "execution_count": 43,
   "metadata": {},
   "outputs": [
    {
     "name": "stdout",
     "output_type": "stream",
     "text": [
      "Invalid credentials. Try again.\n",
      "Login successful!\n"
     ]
    }
   ],
   "source": [
    "attempts = 0\n",
    "while attempts < 5:\n",
    "    name = input(\"Enter name: \")\n",
    "    password = input(\"Enter password: \")\n",
    "    if name == \"stud\" and password == \"pass\":\n",
    "        print(\"Login successful!\")\n",
    "        break\n",
    "    else:\n",
    "        print(\"Invalid credentials. Try again.\")\n",
    "        attempts += 1\n",
    "if attempts == 5:\n",
    "    print(\"Maximum attempts reached.\")"
   ]
  },
  {
   "cell_type": "code",
   "execution_count": 44,
   "metadata": {},
   "outputs": [
    {
     "name": "stdout",
     "output_type": "stream",
     "text": [
      "15\n",
      "14\n",
      "13\n",
      "12\n",
      "11\n",
      "10\n",
      "9\n",
      "8\n",
      "7\n",
      "6\n",
      "5\n",
      "4\n",
      "3\n",
      "2\n",
      "1\n"
     ]
    }
   ],
   "source": [
    "for i in range(15, 0, -1):\n",
    "    print(i)\n"
   ]
  },
  {
   "cell_type": "code",
   "execution_count": 45,
   "metadata": {},
   "outputs": [
    {
     "name": "stdout",
     "output_type": "stream",
     "text": [
      "Sum of numbers from 11 to 200 is: 20045\n"
     ]
    }
   ],
   "source": [
    "sum_numbers = 0\n",
    "for i in range(11, 201):\n",
    "    sum_numbers += i\n",
    "print(\"Sum of numbers from 11 to 200 is:\", sum_numbers)"
   ]
  },
  {
   "cell_type": "code",
   "execution_count": 46,
   "metadata": {},
   "outputs": [
    {
     "name": "stdout",
     "output_type": "stream",
     "text": [
      "Average from 5 to 15 is: 10.0\n",
      "Average from 21 to 60 is: 40.5\n"
     ]
    }
   ],
   "source": [
    "sum1, sum2 = 0, 0\n",
    "count1, count2 = 0, 0\n",
    "\n",
    "for i in range(1, 61):\n",
    "    if 5 <= i <= 15:\n",
    "        sum1 += i\n",
    "        count1 += 1\n",
    "    elif 21 <= i <= 60:\n",
    "        sum2 += i\n",
    "        count2 += 1\n",
    "    else:\n",
    "        pass\n",
    "\n",
    "average1 = sum1 / count1 if count1 > 0 else 0\n",
    "average2 = sum2 / count2 if count2 > 0 else 0\n",
    "\n",
    "print(\"Average from 5 to 15 is:\", average1)\n",
    "print(\"Average from 21 to 60 is:\", average2)"
   ]
  },
  {
   "cell_type": "code",
   "execution_count": 47,
   "metadata": {},
   "outputs": [
    {
     "name": "stdout",
     "output_type": "stream",
     "text": [
      "5\n",
      "7\n",
      "9\n",
      "11\n",
      "13\n",
      "15\n",
      "17\n",
      "19\n",
      "21\n",
      "23\n",
      "25\n",
      "27\n",
      "29\n"
     ]
    }
   ],
   "source": [
    "for i in range(5, 31):\n",
    "    if i % 2 != 0:\n",
    "        print(i)"
   ]
  },
  {
   "cell_type": "code",
   "execution_count": 48,
   "metadata": {},
   "outputs": [
    {
     "name": "stdout",
     "output_type": "stream",
     "text": [
      "Factorial of 3 is 6\n"
     ]
    }
   ],
   "source": [
    "n = int(input(\"Enter a number to find its factorial: \"))\n",
    "factorial = 1\n",
    "for i in range(1, n + 1):\n",
    "    factorial *= i\n",
    "print(f\"Factorial of {n} is {factorial}\")"
   ]
  },
  {
   "cell_type": "code",
   "execution_count": 49,
   "metadata": {},
   "outputs": [
    {
     "name": "stdout",
     "output_type": "stream",
     "text": [
      "Sum of digits is: 4\n"
     ]
    }
   ],
   "source": [
    "number = int(input(\"Enter an integer: \"))\n",
    "sum_of_digits = sum(int(digit) for digit in str(number))\n",
    "print(\"Sum of digits is:\", sum_of_digits)"
   ]
  },
  {
   "cell_type": "code",
   "execution_count": 50,
   "metadata": {},
   "outputs": [
    {
     "name": "stdout",
     "output_type": "stream",
     "text": [
      "Sum of even numbers between 30 and 50 is: 440\n"
     ]
    }
   ],
   "source": [
    "sum_even = sum(i for i in range(30, 51) if i % 2 == 0)\n",
    "print(\"Sum of even numbers between 30 and 50 is:\", sum_even)"
   ]
  },
  {
   "cell_type": "code",
   "execution_count": 51,
   "metadata": {},
   "outputs": [
    {
     "name": "stdout",
     "output_type": "stream",
     "text": [
      "5 x 1 = 5\n",
      "5 x 2 = 10\n",
      "5 x 3 = 15\n",
      "5 x 4 = 20\n",
      "5 x 5 = 25\n",
      "5 x 6 = 30\n",
      "5 x 7 = 35\n",
      "5 x 8 = 40\n",
      "5 x 9 = 45\n",
      "5 x 10 = 50\n"
     ]
    }
   ],
   "source": [
    "num = int(input(\"Enter a number for multiplication table: \"))\n",
    "for i in range(1, 11):\n",
    "    print(f\"{num} x {i} = {num * i}\")"
   ]
  },
  {
   "cell_type": "code",
   "execution_count": 52,
   "metadata": {},
   "outputs": [
    {
     "name": "stdout",
     "output_type": "stream",
     "text": [
      "1\n",
      "22\n",
      "333\n",
      "4444\n"
     ]
    }
   ],
   "source": [
    "rows = int(input(\"Enter the number of rows: \"))\n",
    "for i in range(1, rows + 1):\n",
    "    print(str(i) * i)"
   ]
  },
  {
   "cell_type": "code",
   "execution_count": 53,
   "metadata": {},
   "outputs": [
    {
     "name": "stdout",
     "output_type": "stream",
     "text": [
      "\n",
      "*\n",
      "**\n",
      "***\n",
      "**\n",
      "*\n"
     ]
    }
   ],
   "source": [
    "rows = int(input(\"Enter the number of rows: \"))\n",
    "for i in range(rows*2):\n",
    "    if i<rows:\n",
    "        print(\"*\"*i)\n",
    "    else:\n",
    "        print(\"*\"*(rows*2-i))"
   ]
  },
  {
   "cell_type": "code",
   "execution_count": 54,
   "metadata": {},
   "outputs": [
    {
     "name": "stdout",
     "output_type": "stream",
     "text": [
      "A\n",
      "BB\n",
      "CCC\n",
      "DDDD\n"
     ]
    }
   ],
   "source": [
    "rows = int(input(\"Enter the number of rows: \"))\n",
    "for i in range(1, rows + 1):\n",
    "    print(chr(64 + i) * i)  # chr(65) is 'A', chr(66) is 'B', etc."
   ]
  },
  {
   "cell_type": "code",
   "execution_count": 55,
   "metadata": {},
   "outputs": [
    {
     "name": "stdout",
     "output_type": "stream",
     "text": [
      "4 is an Armstrong number.\n"
     ]
    }
   ],
   "source": [
    "num = int(input(\"Enter a number: \"))\n",
    "order = len(str(num))\n",
    "sum_of_powers = 0\n",
    "for digit in str(num):\n",
    "    sum_of_powers += int(digit) ** order\n",
    "\n",
    "if sum_of_powers == num:\n",
    "    print(f\"{num} is an Armstrong number.\")\n",
    "else:\n",
    "    print(f\"{num} is not an Armstrong number.\")"
   ]
  },
  {
   "cell_type": "code",
   "execution_count": 56,
   "metadata": {},
   "outputs": [
    {
     "name": "stdout",
     "output_type": "stream",
     "text": [
      "Fibonacci series: [0, 1, 1]\n"
     ]
    }
   ],
   "source": [
    "n = int(input(\"Enter the number of terms: \"))\n",
    "fibonacci_series = []\n",
    "f1, f2 = 0, 1\n",
    "\n",
    "for i in range(n):\n",
    "    fibonacci_series.append(f1)\n",
    "    f1, f2 = f2, f1 + f2\n",
    "\n",
    "print(\"Fibonacci series:\", fibonacci_series)"
   ]
  },
  {
   "cell_type": "code",
   "execution_count": 57,
   "metadata": {},
   "outputs": [
    {
     "name": "stdout",
     "output_type": "stream",
     "text": [
      "5 is a prime number.\n"
     ]
    }
   ],
   "source": [
    "num = int(input(\"Enter a number: \"))\n",
    "is_prime = True\n",
    "\n",
    "if num < 2:\n",
    "    is_prime = False\n",
    "else:\n",
    "    for i in range(2, int(num**0.5) + 1):\n",
    "        if num % i == 0:\n",
    "            is_prime = False\n",
    "            break\n",
    "\n",
    "if is_prime:\n",
    "    print(f\"{num} is a prime number.\")\n",
    "else:\n",
    "    print(f\"{num} is not a prime number.\")"
   ]
  },
  {
   "cell_type": "code",
   "execution_count": 58,
   "metadata": {},
   "outputs": [
    {
     "name": "stdout",
     "output_type": "stream",
     "text": [
      "Sum: 15\n",
      "Average: 3.0\n"
     ]
    }
   ],
   "source": [
    "import array\n",
    "arr=array.array('i',[1,2,3,4,5])  # Changed curly quotes to straight quotes\n",
    "sum_of_array = sum(arr)\n",
    "average = sum_of_array / len(arr)\n",
    "\n",
    "print(\"Sum:\", sum_of_array)\n",
    "print(\"Average:\", average)\n"
   ]
  },
  {
   "cell_type": "code",
   "execution_count": 59,
   "metadata": {},
   "outputs": [
    {
     "name": "stdout",
     "output_type": "stream",
     "text": [
      "Reversed array: array('i', [5, 4, 3, 2, 1])\n"
     ]
    }
   ],
   "source": [
    "import array \n",
    "\n",
    "# Create an array of integers\n",
    "arr = array.array('i', [1, 2, 3, 4, 5])  # 'i' indicates the type is integer\n",
    "\n",
    "# Reverse the array by converting it to a list, reversing it, and converting back to an array\n",
    "reversed_array = array.array('i', arr[::-1])  # Reverse the array\n",
    "\n",
    "print(\"Reversed array:\", reversed_array)"
   ]
  },
  {
   "cell_type": "code",
   "execution_count": 60,
   "metadata": {},
   "outputs": [
    {
     "name": "stdout",
     "output_type": "stream",
     "text": [
      "Array with duplicates removed: [1, 2, 3, 4, 5]\n"
     ]
    }
   ],
   "source": [
    "import array\n",
    "\n",
    "# Original array with duplicates\n",
    "arr = array.array('i', [1, 2, 3, 2, 4, 5, 1])  # 'i' indicates the type is integer\n",
    "\n",
    "# Remove duplicates by converting to a set and back to an array\n",
    "unique_array = array.array('i', set(arr))  # Create a new array from the set of unique elements\n",
    "\n",
    "# Print the unique array\n",
    "print(\"Array with duplicates removed:\", unique_array.tolist())  # Convert to list for better readability"
   ]
  },
  {
   "cell_type": "code",
   "execution_count": 61,
   "metadata": {},
   "outputs": [
    {
     "name": "stdout",
     "output_type": "stream",
     "text": [
      "Reversed string: 4\n"
     ]
    }
   ],
   "source": [
    "input_string = input(\"Enter a string: \")\n",
    "reversed_string = input_string[::-1]  # Using slicing to reverse the string\n",
    "print(\"Reversed string:\", reversed_string)"
   ]
  },
  {
   "cell_type": "code",
   "execution_count": 62,
   "metadata": {},
   "outputs": [
    {
     "name": "stdout",
     "output_type": "stream",
     "text": [
      "Number of vowels: 0\n"
     ]
    }
   ],
   "source": [
    "input_string = input(\"Enter a string: \")\n",
    "vowels = \"aeiouAEIOU\"\n",
    "count=0\n",
    "for i in input_string:\n",
    "    if i in vowels:\n",
    "        count+=1\n",
    "print(\"Number of vowels:\", count)"
   ]
  },
  {
   "cell_type": "code",
   "execution_count": 63,
   "metadata": {},
   "outputs": [
    {
     "name": "stdout",
     "output_type": "stream",
     "text": [
      "Is palindrome\n"
     ]
    }
   ],
   "source": [
    "inputVal = input(\"Enter a string: \")\n",
    "is_palindrome = True  # Assume it is a palindrome until proven otherwise\n",
    "\n",
    "# Check characters from start and end moving towards the center\n",
    "for i in range(len(inputVal) // 2):\n",
    "    if inputVal[i] != inputVal[len(inputVal) - 1 - i]:\n",
    "        is_palindrome = False  # Set flag to False if a mismatch is found\n",
    "        break  # No need to check further if a mismatch is found\n",
    "\n",
    "if is_palindrome:\n",
    "    print(\"Is palindrome\")\n",
    "else:\n",
    "    print(\"Not palindrome\")"
   ]
  },
  {
   "cell_type": "code",
   "execution_count": 64,
   "metadata": {},
   "outputs": [
    {
     "name": "stdout",
     "output_type": "stream",
     "text": [
      "String with no duplicate characters :  {'4'}\n",
      "String with no duplicate characters: 4\n"
     ]
    }
   ],
   "source": [
    "val1=input(\"Enter a string : \")\n",
    "print(\"String with no duplicate characters : \", str(set(val1)))\n",
    "\n",
    "val2 = input(\"Enter a string: \")\n",
    "unique_chars = \"\"\n",
    "for char in val2:\n",
    "    if char not in unique_chars:\n",
    "        unique_chars += char\n",
    "print(\"String with no duplicate characters:\", unique_chars)"
   ]
  },
  {
   "cell_type": "code",
   "execution_count": 65,
   "metadata": {},
   "outputs": [
    {
     "name": "stdout",
     "output_type": "stream",
     "text": [
      "Even length words:\n"
     ]
    }
   ],
   "source": [
    "# Input string from the user\n",
    "input_string = input(\"Enter a string: \")\n",
    "\n",
    "# Split the string into words\n",
    "words = input_string.split()\n",
    "\n",
    "# Print words with even length\n",
    "print(\"Even length words:\")\n",
    "for word in words:\n",
    "    if len(word) % 2 == 0:  # Check if the length of the word is even\n",
    "        print(word)"
   ]
  },
  {
   "cell_type": "code",
   "execution_count": 66,
   "metadata": {},
   "outputs": [
    {
     "name": "stdout",
     "output_type": "stream",
     "text": [
      "String with spaces removed: Pythonisveryeasy\n"
     ]
    }
   ],
   "source": [
    "# Input string\n",
    "input_string = \"Python is very easy\"\n",
    "\n",
    "# Remove spaces by splitting and joining\n",
    "no_spaces_string = ''.join(input_string.split())\n",
    "\n",
    "# Print the result\n",
    "print(\"String with spaces removed:\", no_spaces_string)"
   ]
  },
  {
   "cell_type": "code",
   "execution_count": 67,
   "metadata": {},
   "outputs": [
    {
     "name": "stdout",
     "output_type": "stream",
     "text": [
      "Converted string from ASCII values: E\n"
     ]
    }
   ],
   "source": [
    "# List of ASCII values\n",
    "ascii_values = [65, 66, 67, 68, 69]\n",
    "\n",
    "# Convert ASCII values to characters and join them to form a string\n",
    "for value in ascii_values:\n",
    "    result_string = ''.join(chr(value)) \n",
    "\n",
    "# Print the resulting string\n",
    "print(\"Converted string from ASCII values:\", result_string)"
   ]
  },
  {
   "cell_type": "code",
   "execution_count": 68,
   "metadata": {},
   "outputs": [
    {
     "name": "stdout",
     "output_type": "stream",
     "text": [
      "Formatted string: 3\n"
     ]
    }
   ],
   "source": [
    "# Input string from the user\n",
    "input_string = input(\"Enter a string: \")\n",
    "\n",
    "# Print individual characters separated by '—'\n",
    "formatted_string = '—'.join(input_string)\n",
    "\n",
    "# Print the formatted string\n",
    "print(\"Formatted string:\", formatted_string)"
   ]
  }
 ],
 "metadata": {
  "kernelspec": {
   "display_name": "Python 3",
   "language": "python",
   "name": "python3"
  },
  "language_info": {
   "codemirror_mode": {
    "name": "ipython",
    "version": 3
   },
   "file_extension": ".py",
   "mimetype": "text/x-python",
   "name": "python",
   "nbconvert_exporter": "python",
   "pygments_lexer": "ipython3",
   "version": "3.12.5"
  }
 },
 "nbformat": 4,
 "nbformat_minor": 2
}
